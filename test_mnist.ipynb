{
 "cells": [
  {
   "cell_type": "code",
   "execution_count": 1,
   "id": "e4a67e48-0c49-4d02-86ad-8b2a3b1a758a",
   "metadata": {
    "execution": {
     "iopub.execute_input": "2023-06-17T13:51:24.978090Z",
     "iopub.status.busy": "2023-06-17T13:51:24.977427Z",
     "iopub.status.idle": "2023-06-17T13:51:26.718533Z",
     "shell.execute_reply": "2023-06-17T13:51:26.717642Z",
     "shell.execute_reply.started": "2023-06-17T13:51:24.978057Z"
    },
    "scrolled": true
   },
   "outputs": [
    {
     "data": {
      "text/plain": [
       "Place(gpu:0)"
      ]
     },
     "execution_count": 1,
     "metadata": {},
     "output_type": "execute_result"
    }
   ],
   "source": [
    "import sys\n",
    "import paddle\n",
    "sys.path.append(\"./work\")\n",
    "\n",
    "PLACE = paddle.CUDAPlace(0)\n",
    "# print(paddle.device.get_device())\n",
    "paddle.device.set_device('gpu:0')"
   ]
  },
  {
   "cell_type": "code",
   "execution_count": 2,
   "id": "684b811b-f749-47e2-b4a5-665bdf02e7b1",
   "metadata": {
    "execution": {
     "iopub.execute_input": "2023-06-17T13:51:26.721461Z",
     "iopub.status.busy": "2023-06-17T13:51:26.720916Z",
     "iopub.status.idle": "2023-06-17T13:51:26.729449Z",
     "shell.execute_reply": "2023-06-17T13:51:26.728694Z",
     "shell.execute_reply.started": "2023-06-17T13:51:26.721421Z"
    },
    "scrolled": true
   },
   "outputs": [],
   "source": [
    "from model import LatentModulatedSiren # 这个就是我们的模型F_theta\n",
    "from utils import get_coordinate_grid\n",
    "from paddle.vision.models import resnet34\n",
    "from dataloaders import create_dataloader"
   ]
  },
  {
   "cell_type": "code",
   "execution_count": 3,
   "id": "0b85ed1c-2442-433b-9080-56e3b2c83728",
   "metadata": {
    "execution": {
     "iopub.execute_input": "2023-06-17T13:51:26.730718Z",
     "iopub.status.busy": "2023-06-17T13:51:26.730412Z",
     "iopub.status.idle": "2023-06-17T13:51:26.738065Z",
     "shell.execute_reply": "2023-06-17T13:51:26.737332Z",
     "shell.execute_reply.started": "2023-06-17T13:51:26.730692Z"
    },
    "scrolled": true
   },
   "outputs": [],
   "source": [
    "from paddle.vision import transforms\n",
    "import dataloaders.mnist as mnist\n",
    "import paddle\n",
    "def test_dataloader(dset, dset_root=None, batch_size=8):\n",
    "    \"\"\"Create dataloader for selected dataset\"\"\"\n",
    "    if dset == \"mnist\":\n",
    "        transform = transforms.Compose([\n",
    "            transforms.ToTensor()\n",
    "        ])\n",
    "        dataset = mnist.Mnist(split='test',transforms=transform)\n",
    "    elif dset == \"cifar10\":\n",
    "        transform = transforms.Compose([\n",
    "            transforms.ToTensor(),\n",
    "            transforms.Normalize(\n",
    "            mean=[0.485, 0.456, 0.406], std=[0.229, 0.224, 0.225])\n",
    "        ])\n",
    "        dataset = mnist.Cifar(split='test',transforms=transform)\n",
    "    # Other options...\n",
    "\n",
    "    dataloader = paddle.io.DataLoader(\n",
    "        dataset,\n",
    "        batch_size=batch_size,\n",
    "        shuffle=False,\n",
    "        drop_last=False,\n",
    "        num_workers=2,\n",
    "    )\n",
    "\n",
    "    return dataloader"
   ]
  },
  {
   "cell_type": "code",
   "execution_count": 4,
   "id": "a2d0b853-9058-4d38-a5f2-ece76d08530d",
   "metadata": {
    "execution": {
     "iopub.execute_input": "2023-06-17T13:51:26.739414Z",
     "iopub.status.busy": "2023-06-17T13:51:26.739082Z",
     "iopub.status.idle": "2023-06-17T13:51:26.745953Z",
     "shell.execute_reply": "2023-06-17T13:51:26.745211Z",
     "shell.execute_reply.started": "2023-06-17T13:51:26.739388Z"
    },
    "scrolled": true
   },
   "outputs": [],
   "source": [
    "import paddle.nn as nn\n",
    "def inner_loop(images, coords, network, optim, \n",
    "                criterion=nn.MSELoss(reduction='none'), modulate=None, meta_sgd=False):\n",
    "    best_loss=1e7\n",
    "    best_recon=None\n",
    "    network.train()\n",
    "    for i in range(5):\n",
    "        #network.clear_gradients()\n",
    "        recon = network(coords, modulate)\n",
    "\n",
    "        loss = criterion(recon, images) # N, H, W, C\n",
    "        loss = loss.mean([1, 2, 3]).sum(0)\n",
    "        # print(i)\n",
    "        loss.backward()\n",
    "        \n",
    "        optim.step()\n",
    "        optim.clear_grad()\n",
    "        if best_loss>loss[0]:\n",
    "            best_loss=loss[0]\n",
    "            best_recon=recon\n",
    "    \n",
    "    return best_loss,best_recon"
   ]
  },
  {
   "cell_type": "code",
   "execution_count": 5,
   "id": "96ecf4e5-6be2-4812-bc47-905339d4f23c",
   "metadata": {
    "execution": {
     "iopub.execute_input": "2023-06-17T13:51:26.747410Z",
     "iopub.status.busy": "2023-06-17T13:51:26.746949Z",
     "iopub.status.idle": "2023-06-17T13:51:26.751794Z",
     "shell.execute_reply": "2023-06-17T13:51:26.751072Z",
     "shell.execute_reply.started": "2023-06-17T13:51:26.747382Z"
    },
    "scrolled": true
   },
   "outputs": [],
   "source": [
    "model_cfg = {\n",
    "    'batch_size': 16,\n",
    "    'out_channels': 1, # Gray\n",
    "    'depth': 15,\n",
    "    'latent_dim': 512,\n",
    "    'latent_init_scale': 0.01,\n",
    "    'layer_sizes': [],\n",
    "    'meta_sgd_clip_range': [0, 1],\n",
    "    'meta_sgd_init_range': [0.005, 0.1],\n",
    "    'modulate_scale': False,\n",
    "    'modulate_shift': True,\n",
    "    'use_meta_sgd': True,\n",
    "    'w0': 30,\n",
    "    'width': 512}"
   ]
  },
  {
   "cell_type": "code",
   "execution_count": 6,
   "id": "d6c9a2b4-9a02-40e6-b047-3ea7158fd03b",
   "metadata": {
    "execution": {
     "iopub.execute_input": "2023-06-17T13:51:26.753140Z",
     "iopub.status.busy": "2023-06-17T13:51:26.752735Z",
     "iopub.status.idle": "2023-06-17T13:51:28.048321Z",
     "shell.execute_reply": "2023-06-17T13:51:28.047409Z",
     "shell.execute_reply.started": "2023-06-17T13:51:26.753112Z"
    },
    "scrolled": true
   },
   "outputs": [
    {
     "name": "stderr",
     "output_type": "stream",
     "text": [
      "W0617 21:51:26.755360  5113 gpu_resources.cc:61] Please NOTE: device: 0, GPU Compute Capability: 7.0, Driver API Version: 11.2, Runtime API Version: 11.2\r\n",
      "W0617 21:51:26.760283  5113 gpu_resources.cc:91] device: 0, cuDNN Version: 8.2.\r\n",
      "/opt/conda/envs/python35-paddle120-env/lib/python3.7/site-packages/paddle/fluid/dygraph/layers.py:1492: UserWarning: Skip loading for meta_sgd_lrs.meta_sgd_lrs. meta_sgd_lrs.meta_sgd_lrs is not found in the provided dict.\r\n",
      "  warnings.warn((\"Skip loading for {}. \".format(key) + str(err)))\r\n",
      "/opt/conda/envs/python35-paddle120-env/lib/python3.7/site-packages/paddle/fluid/dygraph/layers.py:1492: UserWarning: Skip loading for latent.latent_vector. latent.latent_vector receives a shape [128, 512], but the expected shape is [16, 512].\r\n",
      "  warnings.warn((\"Skip loading for {}. \".format(key) + str(err)))\r\n"
     ]
    }
   ],
   "source": [
    "model_mnist = LatentModulatedSiren(**model_cfg)\n",
    "state_dict = paddle.load(\"./work/assets/mnist_params_512_latents_100000.pdparams\")\n",
    "model_mnist.set_state_dict(state_dict)"
   ]
  },
  {
   "cell_type": "code",
   "execution_count": 7,
   "id": "dba997d5-9926-4744-8129-f439c482f60a",
   "metadata": {
    "execution": {
     "iopub.execute_input": "2023-06-17T13:51:28.050269Z",
     "iopub.status.busy": "2023-06-17T13:51:28.049620Z",
     "iopub.status.idle": "2023-06-17T13:51:34.370907Z",
     "shell.execute_reply": "2023-06-17T13:51:34.370008Z",
     "shell.execute_reply.started": "2023-06-17T13:51:28.050234Z"
    },
    "scrolled": true
   },
   "outputs": [
    {
     "name": "stdout",
     "output_type": "stream",
     "text": [
      "shape of X: (10000, 32, 32), y: (10000,)\r\n",
      "shape of X: (60000, 32, 32), y: (60000,)\r\n"
     ]
    }
   ],
   "source": [
    "dataloader_test_mnist=test_dataloader(dset='mnist',batch_size=16)\n",
    "dataloader_train_mnist=create_dataloader.create_dataloader(dset='mnist',batch_size=16)"
   ]
  },
  {
   "cell_type": "code",
   "execution_count": 8,
   "id": "9976c9bc-65cf-4849-92ed-ca7e5b3c8df3",
   "metadata": {
    "execution": {
     "iopub.execute_input": "2023-06-17T13:51:34.372539Z",
     "iopub.status.busy": "2023-06-17T13:51:34.372101Z",
     "iopub.status.idle": "2023-06-17T13:51:34.386728Z",
     "shell.execute_reply": "2023-06-17T13:51:34.385710Z",
     "shell.execute_reply.started": "2023-06-17T13:51:34.372506Z"
    },
    "scrolled": true
   },
   "outputs": [],
   "source": [
    "import paddle\n",
    "import paddle.nn.functional as F\n",
    "class LeNet(paddle.nn.Layer):\n",
    "    def __init__(self):\n",
    "        super(LeNet, self).__init__()\n",
    "        self.conv1 = paddle.nn.Conv2D(in_channels=1, out_channels=6, kernel_size=5, stride=1, padding=2)\n",
    "        self.max_pool1 = paddle.nn.MaxPool2D(kernel_size=2,  stride=2)\n",
    "        self.conv2 = paddle.nn.Conv2D(in_channels=6, out_channels=16, kernel_size=5, stride=1)\n",
    "        self.max_pool2 = paddle.nn.MaxPool2D(kernel_size=2, stride=2)\n",
    "        self.linear1 = paddle.nn.Linear(in_features=576, out_features=120)\n",
    "        self.linear2 = paddle.nn.Linear(in_features=120, out_features=84)\n",
    "        self.linear3 = paddle.nn.Linear(in_features=84, out_features=10)\n",
    "\n",
    "    def forward(self, x):\n",
    "        x = self.conv1(x)\n",
    "        x = F.relu(x)\n",
    "        x = self.max_pool1(x)\n",
    "        x = self.conv2(x)\n",
    "        x = F.relu(x)\n",
    "        x = self.max_pool2(x)\n",
    "        x = paddle.flatten(x, start_axis=1,stop_axis=-1)\n",
    "        # print(x.shape)\n",
    "        x = self.linear1(x)\n",
    "        x = F.relu(x)\n",
    "        x = self.linear2(x)\n",
    "        x = F.relu(x)\n",
    "        x = self.linear3(x)\n",
    "        return x\n",
    "\n",
    "\n",
    "classifier=LeNet()"
   ]
  },
  {
   "cell_type": "code",
   "execution_count": 9,
   "id": "a9e911b9-96dc-4f48-97cc-02c3fd140947",
   "metadata": {
    "execution": {
     "iopub.execute_input": "2023-06-17T13:51:34.388211Z",
     "iopub.status.busy": "2023-06-17T13:51:34.387803Z",
     "iopub.status.idle": "2023-06-17T13:51:34.392601Z",
     "shell.execute_reply": "2023-06-17T13:51:34.391810Z",
     "shell.execute_reply.started": "2023-06-17T13:51:34.388181Z"
    },
    "scrolled": true
   },
   "outputs": [],
   "source": [
    "criterion = paddle.nn.MSELoss('none') # 自定义逻辑，重建结果样本内mean，样本间sum\n",
    "inner_optim = paddle.optimizer.SGD(1e-2, parameters=[model_mnist.latent.latent_vector]) # 内圈优化只调整phi"
   ]
  },
  {
   "cell_type": "code",
   "execution_count": 10,
   "id": "77fd3953-b7db-46fd-9ef7-9d417328816c",
   "metadata": {
    "execution": {
     "iopub.execute_input": "2023-06-17T13:51:34.394239Z",
     "iopub.status.busy": "2023-06-17T13:51:34.393661Z",
     "iopub.status.idle": "2023-06-17T13:51:34.401521Z",
     "shell.execute_reply": "2023-06-17T13:51:34.400759Z",
     "shell.execute_reply.started": "2023-06-17T13:51:34.394208Z"
    },
    "scrolled": true
   },
   "outputs": [],
   "source": [
    "from paddle.metric import Accuracy\n",
    "import numpy as np\n",
    "def cross_validation(model, classifier, dataloader, metric):\n",
    "    classifier.eval()\n",
    "    metric.reset()\n",
    "    inner_optim=paddle.optimizer.SGD(3e-3,parameters=[model.latent.latent_vector])\n",
    "    inner_criterion = paddle.nn.MSELoss(reduction='none')\n",
    "    for batch_data in dataloader:\n",
    "        imgs, coords, labels, idxs = batch_data\n",
    "        paddle.assign(\n",
    "            np.zeros(model.latent.latent_vector.shape).astype(\"float32\"),\n",
    "            model.latent.latent_vector)\n",
    "        _, features = inner_loop(imgs,coords,model,inner_optim,inner_criterion)\n",
    "        features=features.transpose((0,3,1,2))\n",
    "        inner_optim.clear_grad()\n",
    "        with paddle.no_grad():\n",
    "            outputs = classifier(features)\n",
    "            metric.update(metric.compute(outputs, labels))\n",
    "    \n",
    "    accuracy = metric.accumulate()\n",
    "    return accuracy"
   ]
  },
  {
   "cell_type": "code",
   "execution_count": 11,
   "id": "c829472e-89df-445b-aaa3-994cbd4ddb7e",
   "metadata": {
    "execution": {
     "iopub.execute_input": "2023-06-17T13:51:34.405808Z",
     "iopub.status.busy": "2023-06-17T13:51:34.405412Z",
     "iopub.status.idle": "2023-06-17T13:51:34.415081Z",
     "shell.execute_reply": "2023-06-17T13:51:34.414182Z",
     "shell.execute_reply.started": "2023-06-17T13:51:34.405779Z"
    },
    "scrolled": true
   },
   "outputs": [],
   "source": [
    "import numpy as np\n",
    "\n",
    "def train_mnist(lr, model, classifier, train_dataloader, test_dataloader, num_epochs):\n",
    "    criterion = paddle.nn.CrossEntropyLoss()\n",
    "    optimizer = paddle.optimizer.Adam(lr,parameters=classifier.parameters(),weight_decay=1e-4)\n",
    "    inner_optim=paddle.optimizer.SGD(1e-2,parameters=[model.latent.latent_vector])\n",
    "    inner_criterion = paddle.nn.MSELoss(reduction='none')\n",
    "    metric = Accuracy()\n",
    "    # modulate = model.latent.latent_vector.detach()\n",
    "    for epoch in range(num_epochs):\n",
    "        classifier.train()\n",
    "        for i,batch_data in enumerate(train_dataloader):\n",
    "            #print(i)\n",
    "            paddle.assign(\n",
    "            np.zeros(model.latent.latent_vector.shape).astype(\"float32\"),\n",
    "            model.latent.latent_vector,\n",
    "        )\n",
    "            optimizer.clear_grad()\n",
    "            # classifier.clear_gradients()\n",
    "            imgs, coords, labels, idxs = batch_data\n",
    "            # print(imgs.shape,modulate.shape)\n",
    "            #imgs=imgs.transpose((0,2,3,1))\n",
    "            _, features = inner_loop(imgs,coords,model,inner_optim,inner_criterion)\n",
    "            features=features.transpose((0,3,1,2))\n",
    "            features_2=features.detach()\n",
    "            features.stop_gradient=True\n",
    "            features_2.stop_gradient=False\n",
    "            outputs = classifier(features_2)\n",
    "            outer_loss = criterion(outputs, labels)\n",
    "            \n",
    "            outer_loss.backward()\n",
    "            optimizer.step()\n",
    "        \n",
    "        accuracy = cross_validation(model, classifier, test_dataloader, metric)\n",
    "        print(f\"Epoch [{epoch+1}/{num_epochs}], Accuracy: {accuracy:.4f}\")"
   ]
  },
  {
   "cell_type": "code",
   "execution_count": 18,
   "id": "b1610fd8-933f-42cb-840e-b21fc25dab49",
   "metadata": {
    "execution": {
     "iopub.execute_input": "2023-06-17T16:15:29.226853Z",
     "iopub.status.busy": "2023-06-17T16:15:29.225867Z",
     "iopub.status.idle": "2023-06-17T16:15:29.231797Z",
     "shell.execute_reply": "2023-06-17T16:15:29.230756Z",
     "shell.execute_reply.started": "2023-06-17T16:15:29.226810Z"
    },
    "scrolled": true
   },
   "outputs": [],
   "source": [
    "paddle.device.cuda.empty_cache()"
   ]
  },
  {
   "cell_type": "code",
   "execution_count": 12,
   "id": "9e914be9-898a-4aec-aaf2-e6f471e5cc4a",
   "metadata": {
    "execution": {
     "iopub.execute_input": "2023-06-17T13:51:34.416792Z",
     "iopub.status.busy": "2023-06-17T13:51:34.416171Z",
     "iopub.status.idle": "2023-06-17T16:08:05.696848Z",
     "shell.execute_reply": "2023-06-17T16:08:05.693165Z",
     "shell.execute_reply.started": "2023-06-17T13:51:34.416762Z"
    },
    "scrolled": true,
    "tags": []
   },
   "outputs": [
    {
     "name": "stdout",
     "output_type": "stream",
     "text": [
      "Epoch [1/5], Accuracy: 0.9371\r\n",
      "Epoch [2/5], Accuracy: 0.9545\r\n",
      "Epoch [3/5], Accuracy: 0.9523\r\n",
      "Epoch [4/5], Accuracy: 0.9540\r\n"
     ]
    },
    {
     "ename": "KeyboardInterrupt",
     "evalue": "",
     "output_type": "error",
     "traceback": [
      "\u001b[0;31m---------------------------------------------------------------------------\u001b[0m",
      "\u001b[0;31mKeyboardInterrupt\u001b[0m                         Traceback (most recent call last)",
      "\u001b[0;32m/tmp/ipykernel_5113/3482359802.py\u001b[0m in \u001b[0;36m<module>\u001b[0;34m\u001b[0m\n\u001b[0;32m----> 1\u001b[0;31m \u001b[0mtrain_mnist\u001b[0m\u001b[0;34m(\u001b[0m\u001b[0;36m1e-3\u001b[0m\u001b[0;34m,\u001b[0m\u001b[0mmodel_mnist\u001b[0m\u001b[0;34m,\u001b[0m\u001b[0mclassifier\u001b[0m\u001b[0;34m,\u001b[0m\u001b[0mdataloader_train_mnist\u001b[0m\u001b[0;34m,\u001b[0m\u001b[0mdataloader_test_mnist\u001b[0m\u001b[0;34m,\u001b[0m\u001b[0;36m5\u001b[0m\u001b[0;34m)\u001b[0m\u001b[0;34m\u001b[0m\u001b[0;34m\u001b[0m\u001b[0m\n\u001b[0m",
      "\u001b[0;32m/tmp/ipykernel_5113/2706123722.py\u001b[0m in \u001b[0;36mtrain_mnist\u001b[0;34m(lr, model, classifier, train_dataloader, test_dataloader, num_epochs)\u001b[0m\n\u001b[1;32m     21\u001b[0m             \u001b[0;31m# print(imgs.shape,modulate.shape)\u001b[0m\u001b[0;34m\u001b[0m\u001b[0;34m\u001b[0m\u001b[0;34m\u001b[0m\u001b[0m\n\u001b[1;32m     22\u001b[0m             \u001b[0;31m#imgs=imgs.transpose((0,2,3,1))\u001b[0m\u001b[0;34m\u001b[0m\u001b[0;34m\u001b[0m\u001b[0;34m\u001b[0m\u001b[0m\n\u001b[0;32m---> 23\u001b[0;31m             \u001b[0m_\u001b[0m\u001b[0;34m,\u001b[0m \u001b[0mfeatures\u001b[0m \u001b[0;34m=\u001b[0m \u001b[0minner_loop\u001b[0m\u001b[0;34m(\u001b[0m\u001b[0mimgs\u001b[0m\u001b[0;34m,\u001b[0m\u001b[0mcoords\u001b[0m\u001b[0;34m,\u001b[0m\u001b[0mmodel\u001b[0m\u001b[0;34m,\u001b[0m\u001b[0minner_optim\u001b[0m\u001b[0;34m,\u001b[0m\u001b[0minner_criterion\u001b[0m\u001b[0;34m)\u001b[0m\u001b[0;34m\u001b[0m\u001b[0;34m\u001b[0m\u001b[0m\n\u001b[0m\u001b[1;32m     24\u001b[0m             \u001b[0mfeatures\u001b[0m\u001b[0;34m=\u001b[0m\u001b[0mfeatures\u001b[0m\u001b[0;34m.\u001b[0m\u001b[0mtranspose\u001b[0m\u001b[0;34m(\u001b[0m\u001b[0;34m(\u001b[0m\u001b[0;36m0\u001b[0m\u001b[0;34m,\u001b[0m\u001b[0;36m3\u001b[0m\u001b[0;34m,\u001b[0m\u001b[0;36m1\u001b[0m\u001b[0;34m,\u001b[0m\u001b[0;36m2\u001b[0m\u001b[0;34m)\u001b[0m\u001b[0;34m)\u001b[0m\u001b[0;34m\u001b[0m\u001b[0;34m\u001b[0m\u001b[0m\n\u001b[1;32m     25\u001b[0m             \u001b[0mfeatures_2\u001b[0m\u001b[0;34m=\u001b[0m\u001b[0mfeatures\u001b[0m\u001b[0;34m.\u001b[0m\u001b[0mdetach\u001b[0m\u001b[0;34m(\u001b[0m\u001b[0;34m)\u001b[0m\u001b[0;34m\u001b[0m\u001b[0;34m\u001b[0m\u001b[0m\n",
      "\u001b[0;32m/tmp/ipykernel_5113/1185937715.py\u001b[0m in \u001b[0;36minner_loop\u001b[0;34m(images, coords, network, optim, criterion, modulate, meta_sgd)\u001b[0m\n\u001b[1;32m     16\u001b[0m         \u001b[0moptim\u001b[0m\u001b[0;34m.\u001b[0m\u001b[0mstep\u001b[0m\u001b[0;34m(\u001b[0m\u001b[0;34m)\u001b[0m\u001b[0;34m\u001b[0m\u001b[0;34m\u001b[0m\u001b[0m\n\u001b[1;32m     17\u001b[0m         \u001b[0moptim\u001b[0m\u001b[0;34m.\u001b[0m\u001b[0mclear_grad\u001b[0m\u001b[0;34m(\u001b[0m\u001b[0;34m)\u001b[0m\u001b[0;34m\u001b[0m\u001b[0;34m\u001b[0m\u001b[0m\n\u001b[0;32m---> 18\u001b[0;31m         \u001b[0;32mif\u001b[0m \u001b[0mbest_loss\u001b[0m\u001b[0;34m>\u001b[0m\u001b[0mloss\u001b[0m\u001b[0;34m[\u001b[0m\u001b[0;36m0\u001b[0m\u001b[0;34m]\u001b[0m\u001b[0;34m:\u001b[0m\u001b[0;34m\u001b[0m\u001b[0;34m\u001b[0m\u001b[0m\n\u001b[0m\u001b[1;32m     19\u001b[0m             \u001b[0mbest_loss\u001b[0m\u001b[0;34m=\u001b[0m\u001b[0mloss\u001b[0m\u001b[0;34m[\u001b[0m\u001b[0;36m0\u001b[0m\u001b[0;34m]\u001b[0m\u001b[0;34m\u001b[0m\u001b[0;34m\u001b[0m\u001b[0m\n\u001b[1;32m     20\u001b[0m             \u001b[0mbest_recon\u001b[0m\u001b[0;34m=\u001b[0m\u001b[0mrecon\u001b[0m\u001b[0;34m\u001b[0m\u001b[0;34m\u001b[0m\u001b[0m\n",
      "\u001b[0;32m/opt/conda/envs/python35-paddle120-env/lib/python3.7/site-packages/paddle/fluid/dygraph/varbase_patch_methods.py\u001b[0m in \u001b[0;36m__bool__\u001b[0;34m(self)\u001b[0m\n\u001b[1;32m    667\u001b[0m \u001b[0;34m\u001b[0m\u001b[0m\n\u001b[1;32m    668\u001b[0m     \u001b[0;32mdef\u001b[0m \u001b[0m__bool__\u001b[0m\u001b[0;34m(\u001b[0m\u001b[0mself\u001b[0m\u001b[0;34m)\u001b[0m\u001b[0;34m:\u001b[0m\u001b[0;34m\u001b[0m\u001b[0;34m\u001b[0m\u001b[0m\n\u001b[0;32m--> 669\u001b[0;31m         \u001b[0;32mreturn\u001b[0m \u001b[0mself\u001b[0m\u001b[0;34m.\u001b[0m\u001b[0m__nonzero__\u001b[0m\u001b[0;34m(\u001b[0m\u001b[0;34m)\u001b[0m\u001b[0;34m\u001b[0m\u001b[0;34m\u001b[0m\u001b[0m\n\u001b[0m\u001b[1;32m    670\u001b[0m \u001b[0;34m\u001b[0m\u001b[0m\n\u001b[1;32m    671\u001b[0m     \u001b[0;32mdef\u001b[0m \u001b[0m__array__\u001b[0m\u001b[0;34m(\u001b[0m\u001b[0mself\u001b[0m\u001b[0;34m,\u001b[0m \u001b[0mdtype\u001b[0m\u001b[0;34m=\u001b[0m\u001b[0;32mNone\u001b[0m\u001b[0;34m)\u001b[0m\u001b[0;34m:\u001b[0m\u001b[0;34m\u001b[0m\u001b[0;34m\u001b[0m\u001b[0m\n",
      "\u001b[0;32m/opt/conda/envs/python35-paddle120-env/lib/python3.7/site-packages/paddle/fluid/dygraph/varbase_patch_methods.py\u001b[0m in \u001b[0;36m__nonzero__\u001b[0;34m(self)\u001b[0m\n\u001b[1;32m    664\u001b[0m             \u001b[0mtensor\u001b[0m \u001b[0;34m=\u001b[0m \u001b[0mself\u001b[0m\u001b[0;34m.\u001b[0m\u001b[0mvalue\u001b[0m\u001b[0;34m(\u001b[0m\u001b[0;34m)\u001b[0m\u001b[0;34m.\u001b[0m\u001b[0mget_tensor\u001b[0m\u001b[0;34m(\u001b[0m\u001b[0;34m)\u001b[0m\u001b[0;34m\u001b[0m\u001b[0;34m\u001b[0m\u001b[0m\n\u001b[1;32m    665\u001b[0m             \u001b[0;32massert\u001b[0m \u001b[0mtensor\u001b[0m\u001b[0;34m.\u001b[0m\u001b[0m_is_initialized\u001b[0m\u001b[0;34m(\u001b[0m\u001b[0;34m)\u001b[0m\u001b[0;34m,\u001b[0m \u001b[0;34m\"tensor not initialized\"\u001b[0m\u001b[0;34m\u001b[0m\u001b[0;34m\u001b[0m\u001b[0m\n\u001b[0;32m--> 666\u001b[0;31m             \u001b[0;32mreturn\u001b[0m \u001b[0mbool\u001b[0m\u001b[0;34m(\u001b[0m\u001b[0mnp\u001b[0m\u001b[0;34m.\u001b[0m\u001b[0mall\u001b[0m\u001b[0;34m(\u001b[0m\u001b[0mtensor\u001b[0m\u001b[0;34m.\u001b[0m\u001b[0m__array__\u001b[0m\u001b[0;34m(\u001b[0m\u001b[0;34m)\u001b[0m \u001b[0;34m>\u001b[0m \u001b[0;36m0\u001b[0m\u001b[0;34m)\u001b[0m\u001b[0;34m)\u001b[0m\u001b[0;34m\u001b[0m\u001b[0;34m\u001b[0m\u001b[0m\n\u001b[0m\u001b[1;32m    667\u001b[0m \u001b[0;34m\u001b[0m\u001b[0m\n\u001b[1;32m    668\u001b[0m     \u001b[0;32mdef\u001b[0m \u001b[0m__bool__\u001b[0m\u001b[0;34m(\u001b[0m\u001b[0mself\u001b[0m\u001b[0;34m)\u001b[0m\u001b[0;34m:\u001b[0m\u001b[0;34m\u001b[0m\u001b[0;34m\u001b[0m\u001b[0m\n",
      "\u001b[0;31mKeyboardInterrupt\u001b[0m: "
     ]
    }
   ],
   "source": [
    "train_mnist(1e-3,model_mnist,classifier,dataloader_train_mnist,dataloader_test_mnist,5)"
   ]
  },
  {
   "cell_type": "code",
   "execution_count": null,
   "id": "b316ecc0-125c-45af-a443-06e73063b044",
   "metadata": {
    "scrolled": true
   },
   "outputs": [],
   "source": []
  },
  {
   "cell_type": "code",
   "execution_count": 16,
   "id": "bc77fd3d-de2b-49ea-8783-9167b73d0445",
   "metadata": {
    "execution": {
     "iopub.execute_input": "2023-06-14T08:18:09.531667Z",
     "iopub.status.busy": "2023-06-14T08:18:09.531131Z",
     "iopub.status.idle": "2023-06-14T08:18:10.324621Z",
     "shell.execute_reply": "2023-06-14T08:18:10.323670Z",
     "shell.execute_reply.started": "2023-06-14T08:18:09.531639Z"
    },
    "scrolled": true,
    "tags": []
   },
   "outputs": [
    {
     "name": "stderr",
     "output_type": "stream",
     "text": [
      "/opt/conda/envs/python35-paddle120-env/lib/python3.7/site-packages/matplotlib/image.py:425: DeprecationWarning: np.asscalar(a) is deprecated since NumPy v1.16, use a.item() instead\r\n",
      "  a_min = np.asscalar(a_min.astype(scaled_dtype))\r\n",
      "/opt/conda/envs/python35-paddle120-env/lib/python3.7/site-packages/matplotlib/image.py:426: DeprecationWarning: np.asscalar(a) is deprecated since NumPy v1.16, use a.item() instead\r\n",
      "  a_max = np.asscalar(a_max.astype(scaled_dtype))\r\n"
     ]
    },
    {
     "data": {
      "image/png": "[encoded data removed]",
      "text/plain": [
       "<Figure size 1500x800 with 8 Axes>"
      ]
     },
     "metadata": {},
     "output_type": "display_data"
    }
   ],
   "source": [
    "plt.figure(figsize=(15, 8))\n",
    "\n",
    "for i in range(model_cfg['batch_size']):\n",
    "    plt.subplot(2, model_cfg['batch_size'], i * 2 + 1)\n",
    "    plt.imshow(images[i, ..., 0].numpy(), cmap='gray')\n",
    "    plt.axis(\"off\")\n",
    "    plt.title(\"Source\")\n",
    "\n",
    "    plt.subplot(2, model_cfg['batch_size'], i * 2 + 2)\n",
    "    plt.imshow(pp_out[i, ..., 0].numpy(), cmap='gray')\n",
    "    plt.axis(\"off\")\n",
    "    plt.title(\"Generated\")"
   ]
  },
  {
   "cell_type": "code",
   "execution_count": 14,
   "id": "5e194872-7261-4ced-832c-e975f6e95463",
   "metadata": {
    "execution": {
     "iopub.execute_input": "2023-06-17T16:11:16.554860Z",
     "iopub.status.busy": "2023-06-17T16:11:16.544551Z",
     "iopub.status.idle": "2023-06-17T16:11:16.561394Z",
     "shell.execute_reply": "2023-06-17T16:11:16.560348Z",
     "shell.execute_reply.started": "2023-06-17T16:11:16.554814Z"
    },
    "scrolled": true
   },
   "outputs": [],
   "source": [
    "import os\n",
    "paddle.save(classifier.state_dict(), os.path.join(\"./output/\", 'lenet.pdparams'))"
   ]
  }
 ],
 "metadata": {
  "kernelspec": {
   "display_name": "Python 3",
   "language": "python",
   "name": "py35-paddle1.2.0"
  },
  "language_info": {
   "codemirror_mode": {
    "name": "ipython",
    "version": 3
   },
   "file_extension": ".py",
   "mimetype": "text/x-python",
   "name": "python",
   "nbconvert_exporter": "python",
   "pygments_lexer": "ipython3",
   "version": "3.7.4"
  }
 },
 "nbformat": 4,
 "nbformat_minor": 5
}
