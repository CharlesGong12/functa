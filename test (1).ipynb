{
 "cells": [
  {
   "cell_type": "code",
   "execution_count": 1,
   "id": "080c91d7-c713-417f-a43e-d9f220a177d1",
   "metadata": {
    "execution": {
     "iopub.execute_input": "2023-06-18T01:16:30.516729Z",
     "iopub.status.busy": "2023-06-18T01:16:30.516202Z",
     "iopub.status.idle": "2023-06-18T01:16:32.196012Z",
     "shell.execute_reply": "2023-06-18T01:16:32.194990Z",
     "shell.execute_reply.started": "2023-06-18T01:16:30.516702Z"
    },
    "scrolled": true,
    "tags": []
   },
   "outputs": [],
   "source": [
    "import sys\n",
    "import paddle\n",
    "sys.path.append(\"./work\")\n",
    "\n",
    "#PLACE = paddle.CUDAPlace(0)\n",
    "# print(paddle.device.get_device())\n",
    "#paddle.device.set_device('gpu:0')"
   ]
  },
  {
   "cell_type": "code",
   "execution_count": 2,
   "id": "63b84ede-5e1f-4c27-af5c-5483bdb06820",
   "metadata": {
    "execution": {
     "iopub.execute_input": "2023-06-18T01:16:34.528242Z",
     "iopub.status.busy": "2023-06-18T01:16:34.527548Z",
     "iopub.status.idle": "2023-06-18T01:16:34.536955Z",
     "shell.execute_reply": "2023-06-18T01:16:34.536136Z",
     "shell.execute_reply.started": "2023-06-18T01:16:34.528205Z"
    },
    "scrolled": true
   },
   "outputs": [],
   "source": [
    "from model import LatentModulatedSiren # 这个就是我们的模型F_theta\n",
    "from utils import get_coordinate_grid\n",
    "from paddle.vision.models import resnet34\n",
    "from dataloaders import create_dataloader"
   ]
  },
  {
   "cell_type": "code",
   "execution_count": 3,
   "id": "d67a1134-f50d-4d60-8aad-0d05f325c2b7",
   "metadata": {
    "execution": {
     "iopub.execute_input": "2023-06-18T01:16:37.796472Z",
     "iopub.status.busy": "2023-06-18T01:16:37.795824Z",
     "iopub.status.idle": "2023-06-18T01:16:37.803818Z",
     "shell.execute_reply": "2023-06-18T01:16:37.802663Z",
     "shell.execute_reply.started": "2023-06-18T01:16:37.796435Z"
    },
    "scrolled": true,
    "tags": []
   },
   "outputs": [],
   "source": [
    "from paddle.vision import transforms\n",
    "import dataloaders.mnist as mnist\n",
    "import paddle\n",
    "def test_dataloader(dset, dset_root=None, batch_size=8):\n",
    "    \"\"\"Create dataloader for selected dataset\"\"\"\n",
    "    if dset == \"mnist\":\n",
    "        transform = transforms.Compose([\n",
    "            transforms.ToTensor()\n",
    "        ])\n",
    "        dataset = mnist.Mnist(split='test',transforms=transform)\n",
    "    elif dset == \"cifar10\":\n",
    "        transform = transforms.Compose([\n",
    "            transforms.ToTensor(),\n",
    "            transforms.Normalize(\n",
    "            mean=[0.485, 0.456, 0.406], std=[0.229, 0.224, 0.225])\n",
    "        ])\n",
    "        dataset = mnist.Cifar(split='test',transforms=transform)\n",
    "    # Other options...\n",
    "\n",
    "    dataloader = paddle.io.DataLoader(\n",
    "        dataset,\n",
    "        batch_size=batch_size,\n",
    "        shuffle=False,\n",
    "        drop_last=False,\n",
    "        num_workers=2,\n",
    "    )\n",
    "\n",
    "    return dataloader"
   ]
  },
  {
   "cell_type": "code",
   "execution_count": 4,
   "id": "18e411ea-c03a-4375-bd89-01f43ae7c7d4",
   "metadata": {
    "execution": {
     "iopub.execute_input": "2023-06-18T01:16:43.213245Z",
     "iopub.status.busy": "2023-06-18T01:16:43.212585Z",
     "iopub.status.idle": "2023-06-18T01:16:44.088687Z",
     "shell.execute_reply": "2023-06-18T01:16:44.087652Z",
     "shell.execute_reply.started": "2023-06-18T01:16:43.213209Z"
    },
    "scrolled": true
   },
   "outputs": [],
   "source": [
    "model_cfg = {\n",
    "    'batch_size': 16,\n",
    "    'out_channels': 3, # RGB\n",
    "    'depth': 15,\n",
    "    'latent_dim': 1024,\n",
    "    'latent_init_scale': 0.01,\n",
    "    'layer_sizes': [],\n",
    "    'meta_sgd_clip_range': [0, 1],\n",
    "    'meta_sgd_init_range': [0.005, 0.1],\n",
    "    'modulate_scale': False,\n",
    "    'modulate_shift': True,\n",
    "    'use_meta_sgd': True,\n",
    "    'w0': 30,\n",
    "    'width': 1024}\n",
    "\n",
    "model = LatentModulatedSiren(**model_cfg)\n",
    "model.set_state_dict(paddle.load(\"/home/aistudio/output/cifar10_1024_bs16_noaug_noaug.pdparams\"))\n",
    "# modulate = model.latent.latent_vector.detach() # detach"
   ]
  },
  {
   "cell_type": "code",
   "execution_count": 5,
   "id": "91967e4d-013d-40d1-9fd1-aeb0e31d74c1",
   "metadata": {
    "execution": {
     "iopub.execute_input": "2023-06-18T01:16:46.622177Z",
     "iopub.status.busy": "2023-06-18T01:16:46.621521Z",
     "iopub.status.idle": "2023-06-18T01:17:05.558656Z",
     "shell.execute_reply": "2023-06-18T01:17:05.557836Z",
     "shell.execute_reply.started": "2023-06-18T01:16:46.622142Z"
    },
    "scrolled": true,
    "tags": []
   },
   "outputs": [
    {
     "name": "stdout",
     "output_type": "stream",
     "text": [
      "shape of X: (10000, 3, 32, 32), y: (10000,)\r\n"
     ]
    }
   ],
   "source": [
    "classifier=resnet34(pretrained=True)\n",
    "classifier.fc = paddle.nn.Linear(512, 10) \n",
    "dataloader_test=test_dataloader(dset='cifar10',batch_size=16)\n",
    "#dataloader_train=create_dataloader.create_dataloader(dset='cifar10', batch_size=16)"
   ]
  },
  {
   "cell_type": "code",
   "execution_count": 19,
   "id": "9247ac8b-e3f0-40b0-9a87-0cb41b339e86",
   "metadata": {
    "execution": {
     "iopub.execute_input": "2023-06-17T04:30:21.928673Z",
     "iopub.status.busy": "2023-06-17T04:30:21.928265Z",
     "iopub.status.idle": "2023-06-17T04:30:22.258198Z",
     "shell.execute_reply": "2023-06-17T04:30:22.257099Z",
     "shell.execute_reply.started": "2023-06-17T04:30:21.928649Z"
    },
    "scrolled": true
   },
   "outputs": [
    {
     "name": "stderr",
     "output_type": "stream",
     "text": [
      "Clipping input data to the valid range for imshow with RGB data ([0..1] for floats or [0..255] for integers).\r\n"
     ]
    },
    {
     "data": {
      "image/png": "[encoded data removed]",
      "text/plain": [
       "<Figure size 200x200 with 1 Axes>"
      ]
     },
     "metadata": {},
     "output_type": "display_data"
    }
   ],
   "source": [
    "import matplotlib.pyplot as plt\n",
    "classes = ('plane','car','bird','cat','deer','dog','frog','horse','ship','truck')\n",
    "for batch_data in dataloader_test:\n",
    "    img,_,labels,_=batch_data\n",
    "    img=img[0]\n",
    "    # print(img)\n",
    "    plt.figure(figsize=(2,2))\n",
    "    plt.title(classes[labels[0]])\n",
    "    plt.imshow(img)\n",
    "    break"
   ]
  },
  {
   "cell_type": "code",
   "execution_count": 6,
   "id": "98497588-b2b2-497f-a772-8cc2291c967f",
   "metadata": {
    "execution": {
     "iopub.execute_input": "2023-06-18T01:17:05.583749Z",
     "iopub.status.busy": "2023-06-18T01:17:05.583468Z",
     "iopub.status.idle": "2023-06-18T01:17:05.590715Z",
     "shell.execute_reply": "2023-06-18T01:17:05.589737Z",
     "shell.execute_reply.started": "2023-06-18T01:17:05.583724Z"
    },
    "scrolled": true
   },
   "outputs": [],
   "source": [
    "import paddle.nn as nn\n",
    "def inner_loop(images, coords, network, optim, \n",
    "                criterion=nn.MSELoss(reduction='none'), modulate=None, meta_sgd=False):\n",
    "    best_loss=1e7\n",
    "    best_recon=None\n",
    "    network.train()\n",
    "    for i in range(5):\n",
    "        #network.clear_gradients()\n",
    "        recon = network(coords, modulate)\n",
    "\n",
    "        loss = criterion(recon, images) # N, H, W, C\n",
    "        loss = loss.mean([1, 2, 3]).sum(0)\n",
    "        # print(i)\n",
    "        loss.backward()\n",
    "        \n",
    "        optim.step()\n",
    "        optim.clear_grad()\n",
    "        if best_loss>loss[0]:\n",
    "            best_loss=loss[0]\n",
    "            best_recon=recon\n",
    "    \n",
    "    return best_loss,best_recon"
   ]
  },
  {
   "cell_type": "code",
   "execution_count": 12,
   "id": "4590c31c-ee8b-4613-9fbe-208dab6a2322",
   "metadata": {
    "execution": {
     "iopub.execute_input": "2023-06-18T01:35:24.168874Z",
     "iopub.status.busy": "2023-06-18T01:35:24.168217Z",
     "iopub.status.idle": "2023-06-18T01:35:24.174566Z",
     "shell.execute_reply": "2023-06-18T01:35:24.173753Z",
     "shell.execute_reply.started": "2023-06-18T01:35:24.168839Z"
    },
    "scrolled": true,
    "tags": []
   },
   "outputs": [
    {
     "name": "stdout",
     "output_type": "stream",
     "text": [
      "total loss: 2.048, PSNR: 8.928\r\n"
     ]
    }
   ],
   "source": [
    "import numpy as np\n",
    "import matplotlib.pyplot as plt\n",
    "classes = ('plane','car','bird','cat','deer','dog','frog','horse','ship','truck')\n",
    "model.train()\n",
    "optim=paddle.optimizer.SGD(1e-2,parameters=[model.latent.latent_vector])\n",
    "criterion = paddle.nn.MSELoss(reduction='none')\n",
    "total_loss=0\n",
    "plt.figure(figsize=(8, 4))\n",
    "for i,batch_data in enumerate(dataloader_test):\n",
    "    imgs, coords, labels, idxs = batch_data\n",
    "    \n",
    "    paddle.assign(\n",
    "    np.zeros(model.latent.latent_vector.shape).astype(\"float32\"),\n",
    "    model.latent.latent_vector)\n",
    "    loss,recon=inner_loop(imgs,coords,model,optim,criterion)\n",
    "    total_loss+=loss\n",
    "    if i==0:\n",
    "        for j in range(4):\n",
    "            plt.subplot(2,4, j * 2 + 1)\n",
    "            # print(images[j])\n",
    "            plt.imshow(imgs[j].numpy())\n",
    "            plt.axis(\"off\")\n",
    "            plt.title(\"Source: {}\".format(classes[labels[j]]))\n",
    "            #print(pp_out[j])\n",
    "            plt.subplot(2, 4, j * 2 + 2)\n",
    "            plt.imshow(recon[j].numpy())\n",
    "            plt.axis(\"off\")\n",
    "            plt.title(\"Generated\")\n",
    "        print('total loss: {:.3f}, PSNR: {:.3f}'.format(total_loss.numpy()[0],-10 * np.log10(total_loss.numpy() /model_cfg['batch_size'])[0]))  #lenth of test dataset\n",
    "\n",
    "print('total loss: {:.3f}, PSNR: {:.3f}'.format(total_loss.numpy()[0],-10 * np.log10(total_loss.numpy() /10000)[0]))  #lenth of test dataset\n"
   ]
  },
  {
   "cell_type": "code",
   "execution_count": 8,
   "id": "cf3e94fe-24b5-4014-9854-3ab47fc7f8cf",
   "metadata": {
    "execution": {
     "iopub.execute_input": "2023-06-18T01:19:01.124928Z",
     "iopub.status.busy": "2023-06-18T01:19:01.124674Z",
     "iopub.status.idle": "2023-06-18T01:20:48.940257Z",
     "shell.execute_reply": "2023-06-18T01:20:48.939089Z",
     "shell.execute_reply.started": "2023-06-18T01:19:01.124904Z"
    },
    "scrolled": true,
    "tags": []
   },
   "outputs": [
    {
     "name": "stderr",
     "output_type": "stream",
     "text": [
      "Clipping input data to the valid range for imshow with RGB data ([0..1] for floats or [0..255] for integers).\r\n",
      "Clipping input data to the valid range for imshow with RGB data ([0..1] for floats or [0..255] for integers).\r\n",
      "Clipping input data to the valid range for imshow with RGB data ([0..1] for floats or [0..255] for integers).\r\n",
      "Clipping input data to the valid range for imshow with RGB data ([0..1] for floats or [0..255] for integers).\r\n",
      "Clipping input data to the valid range for imshow with RGB data ([0..1] for floats or [0..255] for integers).\r\n",
      "Clipping input data to the valid range for imshow with RGB data ([0..1] for floats or [0..255] for integers).\r\n",
      "Clipping input data to the valid range for imshow with RGB data ([0..1] for floats or [0..255] for integers).\r\n",
      "Clipping input data to the valid range for imshow with RGB data ([0..1] for floats or [0..255] for integers).\r\n"
     ]
    },
    {
     "name": "stdout",
     "output_type": "stream",
     "text": [
      "loss: Tensor(shape=[1], dtype=float32, place=Place(cpu), stop_gradient=False,\r\n",
      "       [2.63727069])\r\n"
     ]
    },
    {
     "data": {
      "image/png": "[encoded data removed]",
      "text/plain": [
       "<Figure size 800x400 with 8 Axes>"
      ]
     },
     "metadata": {},
     "output_type": "display_data"
    }
   ],
   "source": [
    "import numpy as np\r\n",
    "import matplotlib.pyplot as plt\r\n",
    "plt.figure(figsize=(8, 4))\r\n",
    "total_loss=0\r\n",
    "optim=paddle.optimizer.SGD(1e-2,parameters=[model.latent.latent_vector])\r\n",
    "for i,batch_data in enumerate(dataloader_test):\r\n",
    "    imgs, coords, labels, idxs = batch_data\r\n",
    "    paddle.assign(\r\n",
    "    np.zeros(model.latent.latent_vector.shape).astype(\"float32\"),\r\n",
    "    model.latent.latent_vector)\r\n",
    "    loss,recon=inner_loop(imgs,coords,model,optim,criterion)\r\n",
    "    total_loss+=loss\r\n",
    "    if i==0:\r\n",
    "        for j in range(4):\r\n",
    "            plt.subplot(2,4, j * 2 + 1)\r\n",
    "            # print(images[j])\r\n",
    "            plt.imshow(imgs[j].numpy())\r\n",
    "            plt.axis(\"off\")\r\n",
    "            plt.title(\"Source: {}\".format(classes[labels[j]]))\r\n",
    "            #print(pp_out[j])\r\n",
    "            plt.subplot(2, 4, j * 2 + 2)\r\n",
    "            plt.imshow(recon[j].numpy())\r\n",
    "            plt.axis(\"off\")\r\n",
    "            plt.title(\"Generated\")\r\n",
    "        print('loss:',total_loss)\r\n",
    "        break"
   ]
  },
  {
   "cell_type": "code",
   "execution_count": 8,
   "id": "7063e16d-bbf5-44fc-86a2-90a4a77fcf2e",
   "metadata": {
    "execution": {
     "iopub.execute_input": "2023-06-17T11:43:30.521454Z",
     "iopub.status.busy": "2023-06-17T11:43:30.520925Z",
     "iopub.status.idle": "2023-06-17T11:43:31.672794Z",
     "shell.execute_reply": "2023-06-17T11:43:31.671888Z",
     "shell.execute_reply.started": "2023-06-17T11:43:30.521420Z"
    },
    "scrolled": true,
    "tags": []
   },
   "outputs": [
    {
     "name": "stderr",
     "output_type": "stream",
     "text": [
      "Clipping input data to the valid range for imshow with RGB data ([0..1] for floats or [0..255] for integers).\r\n",
      "Clipping input data to the valid range for imshow with RGB data ([0..1] for floats or [0..255] for integers).\r\n",
      "Clipping input data to the valid range for imshow with RGB data ([0..1] for floats or [0..255] for integers).\r\n",
      "Clipping input data to the valid range for imshow with RGB data ([0..1] for floats or [0..255] for integers).\r\n",
      "Clipping input data to the valid range for imshow with RGB data ([0..1] for floats or [0..255] for integers).\r\n",
      "Clipping input data to the valid range for imshow with RGB data ([0..1] for floats or [0..255] for integers).\r\n",
      "Clipping input data to the valid range for imshow with RGB data ([0..1] for floats or [0..255] for integers).\r\n",
      "Clipping input data to the valid range for imshow with RGB data ([0..1] for floats or [0..255] for integers).\r\n"
     ]
    },
    {
     "data": {
      "image/png": "[encoded data removed]",
      "text/plain": [
       "<Figure size 800x400 with 8 Axes>"
      ]
     },
     "metadata": {},
     "output_type": "display_data"
    }
   ],
   "source": [
    "plt.figure(figsize=(8, 4))\n",
    "total_loss=0\n",
    "optim=paddle.optimizer.SGD(1e-2,parameters=[model.latent.latent_vector])\n",
    "for i,batch_data in enumerate(dataloader_test):\n",
    "    imgs, coords, labels, idxs = batch_data\n",
    "    paddle.assign(\n",
    "    np.zeros(model.latent.latent_vector.shape).astype(\"float32\"),\n",
    "    model.latent.latent_vector)\n",
    "    loss,recon=inner_loop(imgs,coords,model,optim,criterion)\n",
    "    total_loss+=loss\n",
    "    if i==0:\n",
    "        for j in range(4):\n",
    "            plt.subplot(2,4, j * 2 + 1)\n",
    "            # print(images[j])\n",
    "            plt.imshow(imgs[j].numpy())\n",
    "            plt.axis(\"off\")\n",
    "            plt.title(\"Source: {}\".format(classes[labels[j]]))\n",
    "            #print(pp_out[j])\n",
    "            plt.subplot(2, 4, j * 2 + 2)\n",
    "            plt.imshow(recon[j].numpy())\n",
    "            plt.axis(\"off\")\n",
    "            plt.title(\"Generated\")\n",
    "        print('loss:',total_loss)\n",
    "        break\n"
   ]
  },
  {
   "cell_type": "code",
   "execution_count": 22,
   "id": "ba1296ac-8fc6-4dd3-866d-0eb008a15a21",
   "metadata": {
    "execution": {
     "iopub.execute_input": "2023-06-17T15:36:55.930048Z",
     "iopub.status.busy": "2023-06-17T15:36:55.928845Z",
     "iopub.status.idle": "2023-06-17T15:36:55.945958Z",
     "shell.execute_reply": "2023-06-17T15:36:55.944961Z",
     "shell.execute_reply.started": "2023-06-17T15:36:55.930008Z"
    },
    "scrolled": true
   },
   "outputs": [],
   "source": [
    "from paddle.metric import Accuracy\n",
    "import numpy as np\n",
    "import os\n",
    "def cross_validation(model, classifier, dataloader, metric):\n",
    "    classifier.eval()\n",
    "    metric.reset()\n",
    "    inner_optim=paddle.optimizer.SGD(3e-3,parameters=[model.latent.latent_vector])\n",
    "    inner_criterion = paddle.nn.MSELoss(reduction='none')\n",
    "    for batch_data in dataloader:\n",
    "        imgs, coords, labels, idxs = batch_data\n",
    "        paddle.assign(\n",
    "            np.zeros(model.latent.latent_vector.shape).astype(\"float32\"),\n",
    "            model.latent.latent_vector)\n",
    "        _, features = inner_loop(imgs,coords,model,inner_optim,inner_criterion)\n",
    "        features=features.transpose((0,3,1,2))\n",
    "        inner_optim.clear_grad()\n",
    "        with paddle.no_grad():\n",
    "            outputs = classifier(features)\n",
    "            metric.update(metric.compute(outputs, labels))\n",
    "    \n",
    "    accuracy = metric.accumulate()\n",
    "    return accuracy\n",
    "\n",
    "def train(lr, model, classifier, train_dataloader, test_dataloader, num_epochs):\n",
    "    best_acc=0\n",
    "    criterion = paddle.nn.CrossEntropyLoss()\n",
    "    optimizer = paddle.optimizer.Adam(lr,parameters=classifier.parameters(),weight_decay=1e-4)\n",
    "    inner_optim=paddle.optimizer.SGD(3e-3,parameters=[model.latent.latent_vector])\n",
    "    inner_criterion = paddle.nn.MSELoss(reduction='none')\n",
    "    metric = Accuracy()\n",
    "    # modulate = model.latent.latent_vector.detach()\n",
    "    for epoch in range(num_epochs):\n",
    "        classifier.train()\n",
    "        for iter, batch_data in enumerate(train_dataloader):\n",
    "            imgs, coords, labels, idxs = batch_data\n",
    "            # print(imgs.shape,modulate.shape)\n",
    "            paddle.assign(\n",
    "            np.zeros(model.latent.latent_vector.shape).astype(\"float32\"),\n",
    "            model.latent.latent_vector)\n",
    "            inner_loss, features = inner_loop(imgs,coords,model,inner_optim,inner_criterion)\n",
    "            inner_optim.clear_grad()\n",
    "            classifier.clear_gradients()\n",
    "            # print(inner_loss)\n",
    "            features=features.transpose([0,3,1,2])\n",
    "            features_2=features.detach()\n",
    "            features.stop_gradient=True   #停止梯度计算！！！！\n",
    "            features_2.stop_gradient=False\n",
    "            outputs = classifier(features_2)\n",
    "            loss = criterion(outputs, labels)\n",
    "            \n",
    "            loss.backward()\n",
    "            optimizer.step()\n",
    "            optimizer.clear_grad()\n",
    "            if iter%500==0:\n",
    "                print(\"Epoch [{}/{}], Iter: {}, loss: {}\".format(epoch+1,num_epochs,iter,loss.item()))\n",
    "        \n",
    "        accuracy = cross_validation(model, classifier, test_dataloader, metric)\n",
    "        print(\"Epoch [{}/{}], Accuracy: {}\".format(epoch+1,num_epochs,accuracy))\n",
    "        if best_acc<accuracy:\n",
    "            paddle.save(classifier.state_dict(), os.path.join(\"./output/\", 'resnet34.pdparams'))"
   ]
  },
  {
   "cell_type": "code",
   "execution_count": 11,
   "id": "f1a8581f-1c70-450b-ba94-5a3511e4fdb0",
   "metadata": {
    "execution": {
     "iopub.execute_input": "2023-06-18T01:23:58.606206Z",
     "iopub.status.busy": "2023-06-18T01:23:58.605000Z",
     "iopub.status.idle": "2023-06-18T01:23:58.613863Z",
     "shell.execute_reply": "2023-06-18T01:23:58.612948Z",
     "shell.execute_reply.started": "2023-06-18T01:23:58.606169Z"
    },
    "scrolled": true,
    "tags": []
   },
   "outputs": [
    {
     "name": "stdout",
     "output_type": "stream",
     "text": [
      "Epoch [1/9], Iter: 0, loss: 1.6962661743164062\r\n",
      "Epoch [1/9], Iter: 500, loss: 1.4408173561096191\r\n",
      "Epoch [1/9], Iter: 1000, loss: 1.5790090560913985\r\n",
      "Epoch [1/9], Iter: 1500, loss: 1.4931330680847168\r\n",
      "Epoch [1/9], Iter: 2000, loss: 1.6405186653137207\r\n",
      "Epoch [1/9], Iter: 2500, loss: 1.6614797115325928\r\n",
      "Epoch [1/9], Iter: 3000, loss: 1.6700186729431152\r\n",
      "Epoch [1/9], Accuracy: 0.5165\r\n"
     ]
    }
   ],
   "source": [
    "classifier.set_state_dict(paddle.load('/home/aistudio/output/resnet34.pdparams'))\n",
    "train(1e-4, model, classifier, dataloader_train, dataloader_test, 9)"
   ]
  },
  {
   "cell_type": "code",
   "execution_count": 16,
   "id": "adbc9e16-6825-435b-8814-7889dad23b10",
   "metadata": {
    "execution": {
     "iopub.execute_input": "2023-06-17T13:51:37.889553Z",
     "iopub.status.busy": "2023-06-17T13:51:37.888829Z",
     "iopub.status.idle": "2023-06-17T13:51:38.460872Z",
     "shell.execute_reply": "2023-06-17T13:51:38.459923Z",
     "shell.execute_reply.started": "2023-06-17T13:51:37.889517Z"
    },
    "scrolled": true
   },
   "outputs": [],
   "source": [
    "paddle.device.cuda.empty_cache()"
   ]
  },
  {
   "cell_type": "code",
   "execution_count": 5,
   "id": "2db50598-3d34-47e3-a12a-78cc21270074",
   "metadata": {
    "execution": {
     "iopub.execute_input": "2023-06-17T05:47:21.407557Z",
     "iopub.status.busy": "2023-06-17T05:47:21.406940Z",
     "iopub.status.idle": "2023-06-17T05:47:21.411955Z",
     "shell.execute_reply": "2023-06-17T05:47:21.411039Z",
     "shell.execute_reply.started": "2023-06-17T05:47:21.407525Z"
    },
    "scrolled": true
   },
   "outputs": [],
   "source": [
    "model_cfg = {\n",
    "    'batch_size': 16,\n",
    "    'out_channels': 1, # Gray\n",
    "    'depth': 15,\n",
    "    'latent_dim': 512,\n",
    "    'latent_init_scale': 0.01,\n",
    "    'layer_sizes': [],\n",
    "    'meta_sgd_clip_range': [0, 1],\n",
    "    'meta_sgd_init_range': [0.005, 0.1],\n",
    "    'modulate_scale': False,\n",
    "    'modulate_shift': True,\n",
    "    'use_meta_sgd': True,\n",
    "    'w0': 30,\n",
    "    'width': 512}"
   ]
  },
  {
   "cell_type": "code",
   "execution_count": 6,
   "id": "d68076dd-76ef-4c22-a8c0-93f0f518ce45",
   "metadata": {
    "execution": {
     "iopub.execute_input": "2023-06-17T05:47:23.576485Z",
     "iopub.status.busy": "2023-06-17T05:47:23.575742Z",
     "iopub.status.idle": "2023-06-17T05:47:28.039557Z",
     "shell.execute_reply": "2023-06-17T05:47:28.038333Z",
     "shell.execute_reply.started": "2023-06-17T05:47:23.576453Z"
    },
    "scrolled": true
   },
   "outputs": [
    {
     "name": "stderr",
     "output_type": "stream",
     "text": [
      "W0617 13:47:23.578294 21874 gpu_resources.cc:61] Please NOTE: device: 0, GPU Compute Capability: 7.0, Driver API Version: 11.2, Runtime API Version: 11.2\r\n",
      "W0617 13:47:23.582486 21874 gpu_resources.cc:91] device: 0, cuDNN Version: 8.2.\r\n",
      "/opt/conda/envs/python35-paddle120-env/lib/python3.7/site-packages/paddle/fluid/dygraph/layers.py:1492: UserWarning: Skip loading for meta_sgd_lrs.meta_sgd_lrs. meta_sgd_lrs.meta_sgd_lrs is not found in the provided dict.\r\n",
      "  warnings.warn((\"Skip loading for {}. \".format(key) + str(err)))\r\n",
      "/opt/conda/envs/python35-paddle120-env/lib/python3.7/site-packages/paddle/fluid/dygraph/layers.py:1492: UserWarning: Skip loading for latent.latent_vector. latent.latent_vector receives a shape [128, 512], but the expected shape is [16, 512].\r\n",
      "  warnings.warn((\"Skip loading for {}. \".format(key) + str(err)))\r\n"
     ]
    }
   ],
   "source": [
    "model_mnist = LatentModulatedSiren(**model_cfg)\n",
    "state_dict = paddle.load(\"./work/assets/mnist_params_512_latents_100000.pdparams\")\n",
    "model_mnist.set_state_dict(state_dict)"
   ]
  },
  {
   "cell_type": "code",
   "execution_count": 7,
   "id": "45c47138-3325-4048-8072-8026fd380c62",
   "metadata": {
    "execution": {
     "iopub.execute_input": "2023-06-17T05:47:28.057045Z",
     "iopub.status.busy": "2023-06-17T05:47:28.056830Z",
     "iopub.status.idle": "2023-06-17T05:47:33.655542Z",
     "shell.execute_reply": "2023-06-17T05:47:33.654010Z",
     "shell.execute_reply.started": "2023-06-17T05:47:28.057024Z"
    },
    "scrolled": true
   },
   "outputs": [
    {
     "name": "stdout",
     "output_type": "stream",
     "text": [
      "shape of X: (10000, 32, 32), y: (10000,)\r\n",
      "shape of X: (60000, 32, 32), y: (60000,)\r\n"
     ]
    }
   ],
   "source": [
    "dataloader_test_mnist=test_dataloader(dset='mnist',batch_size=16)\n",
    "dataloader_train_mnist=create_dataloader.create_dataloader(dset='mnist',batch_size=16)"
   ]
  },
  {
   "cell_type": "code",
   "execution_count": 8,
   "id": "4b111800-bbc4-44d6-a000-4c429d666ffd",
   "metadata": {
    "execution": {
     "iopub.execute_input": "2023-06-17T05:47:33.676307Z",
     "iopub.status.busy": "2023-06-17T05:47:33.675567Z",
     "iopub.status.idle": "2023-06-17T05:47:33.689848Z",
     "shell.execute_reply": "2023-06-17T05:47:33.688998Z",
     "shell.execute_reply.started": "2023-06-17T05:47:33.676270Z"
    },
    "scrolled": true
   },
   "outputs": [],
   "source": [
    "import paddle\n",
    "import paddle.nn.functional as F\n",
    "class LeNet(paddle.nn.Layer):\n",
    "    def __init__(self):\n",
    "        super(LeNet, self).__init__()\n",
    "        self.conv1 = paddle.nn.Conv2D(in_channels=1, out_channels=6, kernel_size=5, stride=1, padding=2)\n",
    "        self.max_pool1 = paddle.nn.MaxPool2D(kernel_size=2,  stride=2)\n",
    "        self.conv2 = paddle.nn.Conv2D(in_channels=6, out_channels=16, kernel_size=5, stride=1)\n",
    "        self.max_pool2 = paddle.nn.MaxPool2D(kernel_size=2, stride=2)\n",
    "        self.linear1 = paddle.nn.Linear(in_features=576, out_features=120)\n",
    "        self.linear2 = paddle.nn.Linear(in_features=120, out_features=84)\n",
    "        self.linear3 = paddle.nn.Linear(in_features=84, out_features=10)\n",
    "\n",
    "    def forward(self, x):\n",
    "        x = self.conv1(x)\n",
    "        x = F.relu(x)\n",
    "        x = self.max_pool1(x)\n",
    "        x = self.conv2(x)\n",
    "        x = F.relu(x)\n",
    "        x = self.max_pool2(x)\n",
    "        x = paddle.flatten(x, start_axis=1,stop_axis=-1)\n",
    "        # print(x.shape)\n",
    "        x = self.linear1(x)\n",
    "        x = F.relu(x)\n",
    "        x = self.linear2(x)\n",
    "        x = F.relu(x)\n",
    "        x = self.linear3(x)\n",
    "        return x\n",
    "\n",
    "\n",
    "classifier=LeNet()"
   ]
  },
  {
   "cell_type": "code",
   "execution_count": 10,
   "id": "0f6a7d8a-ef94-4e07-af58-4752979d910a",
   "metadata": {
    "execution": {
     "iopub.execute_input": "2023-06-17T05:44:38.339726Z",
     "iopub.status.busy": "2023-06-17T05:44:38.339100Z",
     "iopub.status.idle": "2023-06-17T05:44:38.343948Z",
     "shell.execute_reply": "2023-06-17T05:44:38.343138Z",
     "shell.execute_reply.started": "2023-06-17T05:44:38.339694Z"
    },
    "scrolled": true
   },
   "outputs": [],
   "source": [
    "criterion = paddle.nn.MSELoss('none') # 自定义逻辑，重建结果样本内mean，样本间sum\n",
    "inner_optim = paddle.optimizer.SGD(1e-2, parameters=[model_mnist.latent.latent_vector]) # 内圈优化只调整phi"
   ]
  },
  {
   "cell_type": "code",
   "execution_count": 12,
   "id": "ee9aece9-5d9c-4e3a-88a3-d757928af506",
   "metadata": {
    "execution": {
     "iopub.execute_input": "2023-06-17T05:48:29.161860Z",
     "iopub.status.busy": "2023-06-17T05:48:29.160825Z",
     "iopub.status.idle": "2023-06-17T05:48:29.172777Z",
     "shell.execute_reply": "2023-06-17T05:48:29.171942Z",
     "shell.execute_reply.started": "2023-06-17T05:48:29.161819Z"
    },
    "scrolled": true
   },
   "outputs": [],
   "source": [
    "import numpy as np\n",
    "\n",
    "def train_mnist(lr, model, classifier, train_dataloader, test_dataloader, num_epochs):\n",
    "    criterion = paddle.nn.CrossEntropyLoss()\n",
    "    optimizer = paddle.optimizer.Adam(lr,parameters=classifier.parameters())\n",
    "    inner_optim=paddle.optimizer.SGD(1e-2,parameters=[model.latent.latent_vector])\n",
    "    inner_criterion = paddle.nn.MSELoss(reduction='none')\n",
    "    metric = Accuracy()\n",
    "    # modulate = model.latent.latent_vector.detach()\n",
    "    for epoch in range(num_epochs):\n",
    "        classifier.train()\n",
    "        for i,batch_data in enumerate(train_dataloader):\n",
    "            #print(i)\n",
    "            paddle.assign(\n",
    "            np.zeros(model.latent.latent_vector.shape).astype(\"float32\"),\n",
    "            model.latent.latent_vector,\n",
    "        )\n",
    "            optimizer.clear_grad()\n",
    "            # classifier.clear_gradients()\n",
    "            imgs, coords, labels, idxs = batch_data\n",
    "            # print(imgs.shape,modulate.shape)\n",
    "            #imgs=imgs.transpose((0,2,3,1))\n",
    "            _, features = inner_loop(imgs,coords,model,inner_optim,inner_criterion)\n",
    "            features_2=features.transpose((0,3,1,2))\n",
    "            features_2.stop_gradient=True\n",
    "            outputs = classifier(features_2)\n",
    "            outer_loss = criterion(outputs, labels)\n",
    "            \n",
    "            outer_loss.backward()\n",
    "            optimizer.step()\n",
    "        \n",
    "        accuracy = cross_validation(model, classifier, test_dataloader, metric)\n",
    "        print(f\"Epoch [{epoch+1}/{num_epochs}], Accuracy: {accuracy:.4f}\")"
   ]
  },
  {
   "cell_type": "code",
   "execution_count": null,
   "id": "650fa955-368a-49b5-bb1a-cd2c33b815d6",
   "metadata": {
    "scrolled": true,
    "tags": []
   },
   "outputs": [],
   "source": [
    "train_mnist(1e-3,model_mnist,classifier,dataloader_train_mnist,dataloader_test_mnist,5)"
   ]
  },
  {
   "cell_type": "code",
   "execution_count": null,
   "id": "031697b2-2a65-4baf-b17c-22bd5741077a",
   "metadata": {
    "scrolled": true,
    "tags": []
   },
   "outputs": [],
   "source": [
    "import numpy as np\n",
    "import matplotlib.pyplot as plt\n",
    "\n",
    "model_mnist.train()\n",
    "total_loss=0\n",
    "plt.figure(figsize=(15, 8))\n",
    "for i,batch_data in enumerate(dataloader_test_mnist):\n",
    "    imgs, coords, labels, idxs = batch_data\n",
    "    imgs=imgs.transpose((0,2,3,1))\n",
    "    paddle.assign(\n",
    "    np.zeros(model_mnist.latent.latent_vector.shape).astype(\"float32\"),\n",
    "    model_mnist.latent.latent_vector)\n",
    "    loss,recon=inner_loop(imgs,coords,model_mnist,inner_optim,criterion)\n",
    "    total_loss+=loss\n",
    "    if i==1:\n",
    "        for j in range(4):\n",
    "            plt.subplot(2,4, j * 2 + 1)\n",
    "            # print(imgs[j])\n",
    "            plt.imshow(imgs[j,...,0].numpy())\n",
    "            plt.axis(\"off\")\n",
    "            plt.title(\"Source\")\n",
    "            # print(recon[j])\n",
    "            plt.subplot(2, 4, j * 2 + 2)\n",
    "            plt.imshow(recon[j,...,0].numpy())\n",
    "            plt.axis(\"off\")\n",
    "            plt.title(\"Generated\")\n",
    "        print('total loss: {:.6f}, PSNR: {:.6f}'.format(total_loss.numpy()[0],-10 * np.log10(total_loss.numpy() /model_cfg['batch_size'])[0]))  #lenth of test dataset\n",
    "\n",
    "print('total loss: {:.6f}, PSNR: {:.6f}'.format(total_loss.numpy()[0],-10 * np.log10(total_loss.numpy() /10000)[0]))  #lenth of test dataset\n"
   ]
  },
  {
   "cell_type": "code",
   "execution_count": 14,
   "id": "ebe4a340-4127-45d1-8753-1ce47afae292",
   "metadata": {
    "execution": {
     "iopub.execute_input": "2023-06-17T11:54:42.926672Z",
     "iopub.status.busy": "2023-06-17T11:54:42.926205Z",
     "iopub.status.idle": "2023-06-17T11:54:45.156108Z",
     "shell.execute_reply": "2023-06-17T11:54:45.155371Z",
     "shell.execute_reply.started": "2023-06-17T11:54:42.926632Z"
    },
    "scrolled": true
   },
   "outputs": [
    {
     "name": "stdout",
     "output_type": "stream",
     "text": [
      "Tensor(shape=[3, 32, 32], dtype=float32, place=Place(gpu:0), stop_gradient=True,\r\n",
      "       [[[0.61960787, 0.62352943, 0.64705884, ..., 0.53725493,\r\n",
      "          0.49411768, 0.45490199],\r\n",
      "         [0.59607846, 0.59215689, 0.62352943, ..., 0.53333336,\r\n",
      "          0.49019611, 0.46666670],\r\n",
      "         [0.59215689, 0.59215689, 0.61960787, ..., 0.54509807,\r\n",
      "          0.50980395, 0.47058827],\r\n",
      "         ...,\r\n",
      "         [0.26666668, 0.16470589, 0.12156864, ..., 0.14901961,\r\n",
      "          0.05098040, 0.15686275],\r\n",
      "         [0.23921570, 0.19215688, 0.13725491, ..., 0.10196079,\r\n",
      "          0.11372550, 0.07843138],\r\n",
      "         [0.21176472, 0.21960786, 0.17647059, ..., 0.09411766,\r\n",
      "          0.13333334, 0.08235294]],\r\n",
      "\r\n",
      "        [[0.43921572, 0.43529415, 0.45490199, ..., 0.37254903,\r\n",
      "          0.35686275, 0.33333334],\r\n",
      "         [0.43921572, 0.43137258, 0.44705886, ..., 0.37254903,\r\n",
      "          0.35686275, 0.34509805],\r\n",
      "         [0.43137258, 0.42745101, 0.43529415, ..., 0.38431376,\r\n",
      "          0.37254903, 0.34901962],\r\n",
      "         ...,\r\n",
      "         [0.48627454, 0.39215690, 0.34509805, ..., 0.38039219,\r\n",
      "          0.25098041, 0.33333334],\r\n",
      "         [0.45490199, 0.40000004, 0.33333334, ..., 0.32156864,\r\n",
      "          0.32156864, 0.25098041],\r\n",
      "         [0.41960788, 0.41176474, 0.34901962, ..., 0.30196080,\r\n",
      "          0.32941177, 0.26274511]],\r\n",
      "\r\n",
      "        [[0.19215688, 0.18431373, 0.20000002, ..., 0.14117648,\r\n",
      "          0.14117648, 0.12941177],\r\n",
      "         [0.20000002, 0.15686275, 0.17647059, ..., 0.12156864,\r\n",
      "          0.12549020, 0.13333334],\r\n",
      "         [0.18431373, 0.12941177, 0.14117648, ..., 0.13333334,\r\n",
      "          0.13333334, 0.12941177],\r\n",
      "         ...,\r\n",
      "         [0.69411767, 0.58039218, 0.53725493, ..., 0.57254905,\r\n",
      "          0.42352945, 0.49803925],\r\n",
      "         [0.65882355, 0.58039218, 0.51764709, ..., 0.50980395,\r\n",
      "          0.49411768, 0.41960788],\r\n",
      "         [0.62745100, 0.58431375, 0.51764709, ..., 0.48627454,\r\n",
      "          0.50588238, 0.43137258]]])\r\n",
      "Tensor(shape=[3, 32, 32], dtype=float32, place=Place(gpu:0), stop_gradient=True,\r\n",
      "       [[[0.92156869, 0.90588242, 0.90980399, ..., 0.91372555,\r\n",
      "          0.91372555, 0.90980399],\r\n",
      "         [0.93333340, 0.92156869, 0.92156869, ..., 0.92549026,\r\n",
      "          0.92549026, 0.92156869],\r\n",
      "         [0.92941183, 0.91764712, 0.91764712, ..., 0.92156869,\r\n",
      "          0.92156869, 0.91764712],\r\n",
      "         ...,\r\n",
      "         [0.34117648, 0.16862746, 0.07450981, ..., 0.66274512,\r\n",
      "          0.71372551, 0.73725492],\r\n",
      "         [0.32156864, 0.18039216, 0.14117648, ..., 0.68235296,\r\n",
      "          0.72549021, 0.73333335],\r\n",
      "         [0.33333334, 0.24313727, 0.22745100, ..., 0.65882355,\r\n",
      "          0.70588237, 0.72941178]],\r\n",
      "\r\n",
      "        [[0.92156869, 0.90588242, 0.90980399, ..., 0.91372555,\r\n",
      "          0.91372555, 0.90980399],\r\n",
      "         [0.93333340, 0.92156869, 0.92156869, ..., 0.92549026,\r\n",
      "          0.92549026, 0.92156869],\r\n",
      "         [0.92941183, 0.91764712, 0.91764712, ..., 0.92156869,\r\n",
      "          0.92156869, 0.91764712],\r\n",
      "         ...,\r\n",
      "         [0.38823533, 0.20000002, 0.09019608, ..., 0.72156864,\r\n",
      "          0.77254909, 0.79215693],\r\n",
      "         [0.37647063, 0.22352943, 0.17254902, ..., 0.74117649,\r\n",
      "          0.78431380, 0.79215693],\r\n",
      "         [0.39607847, 0.29411766, 0.26274511, ..., 0.71764708,\r\n",
      "          0.76470596, 0.78431380]],\r\n",
      "\r\n",
      "        [[0.92156869, 0.90588242, 0.90980399, ..., 0.91372555,\r\n",
      "          0.91372555, 0.90980399],\r\n",
      "         [0.93333340, 0.92156869, 0.92156869, ..., 0.92549026,\r\n",
      "          0.92549026, 0.92156869],\r\n",
      "         [0.92941183, 0.91764712, 0.91764712, ..., 0.92156869,\r\n",
      "          0.92156869, 0.91764712],\r\n",
      "         ...,\r\n",
      "         [0.34901962, 0.14509805, 0.04313726, ..., 0.70196080,\r\n",
      "          0.75686282, 0.78823537],\r\n",
      "         [0.32156864, 0.14117648, 0.08627451, ..., 0.71764708,\r\n",
      "          0.76862752, 0.78431380],\r\n",
      "         [0.32549021, 0.18823531, 0.14901961, ..., 0.69803923,\r\n",
      "          0.74901962, 0.78039223]]])\r\n",
      "Tensor(shape=[3, 32, 32], dtype=float32, place=Place(gpu:0), stop_gradient=True,\r\n",
      "       [[[0.61960787, 0.61960787, 0.54509807, ..., 0.89411771,\r\n",
      "          0.92941183, 0.93333340],\r\n",
      "         [0.66666669, 0.67450982, 0.59215689, ..., 0.90980399,\r\n",
      "          0.96470594, 0.96470594],\r\n",
      "         [0.68235296, 0.69019610, 0.61568630, ..., 0.90196085,\r\n",
      "          0.98039222, 0.96078438],\r\n",
      "         ...,\r\n",
      "         [0.12156864, 0.11764707, 0.10196079, ..., 0.14509805,\r\n",
      "          0.03529412, 0.01568628],\r\n",
      "         [0.09019608, 0.10588236, 0.09803922, ..., 0.07450981,\r\n",
      "          0.01568628, 0.01960784],\r\n",
      "         [0.10980393, 0.11764707, 0.12549020, ..., 0.01960784,\r\n",
      "          0.01568628, 0.02745098]],\r\n",
      "\r\n",
      "        [[0.74509805, 0.73333335, 0.65098041, ..., 0.90588242,\r\n",
      "          0.93725497, 0.94509810],\r\n",
      "         [0.78431380, 0.78039223, 0.69019610, ..., 0.90980399,\r\n",
      "          0.96470594, 0.96862751],\r\n",
      "         [0.78823537, 0.78431380, 0.70196080, ..., 0.89803928,\r\n",
      "          0.97647065, 0.95686281],\r\n",
      "         ...,\r\n",
      "         [0.15686275, 0.15294118, 0.13725491, ..., 0.15686275,\r\n",
      "          0.05098040, 0.02745098],\r\n",
      "         [0.13333334, 0.14901961, 0.14117648, ..., 0.07843138,\r\n",
      "          0.02352941, 0.02745098],\r\n",
      "         [0.16078432, 0.16862746, 0.17647059, ..., 0.02352941,\r\n",
      "          0.01960784, 0.03137255]],\r\n",
      "\r\n",
      "        [[0.87058830, 0.85490203, 0.76078439, ..., 0.91764712,\r\n",
      "          0.95294124, 0.96470594],\r\n",
      "         [0.89803928, 0.88627458, 0.78823537, ..., 0.92549026,\r\n",
      "          0.98039222, 0.98431379],\r\n",
      "         [0.88235301, 0.87058830, 0.78039223, ..., 0.90980399,\r\n",
      "          0.98431379, 0.96862751],\r\n",
      "         ...,\r\n",
      "         [0.17647059, 0.17254902, 0.15686275, ..., 0.18039216,\r\n",
      "          0.05490196, 0.01960784],\r\n",
      "         [0.15294118, 0.16862746, 0.16078432, ..., 0.09411766,\r\n",
      "          0.01176471, 0.01176471],\r\n",
      "         [0.18431373, 0.19607845, 0.20392159, ..., 0.03137255,\r\n",
      "          0.01176471, 0.02745098]]])\r\n",
      "Tensor(shape=[3, 32, 32], dtype=float32, place=Place(gpu:0), stop_gradient=True,\r\n",
      "       [[[0.60784316, 0.65490198, 0.69019610, ..., 0.78823537,\r\n",
      "          0.79215693, 0.75294125],\r\n",
      "         [0.60000002, 0.63921571, 0.67058825, ..., 0.79215693,\r\n",
      "          0.79607850, 0.74117649],\r\n",
      "         [0.60784316, 0.62745100, 0.65882355, ..., 0.80784321,\r\n",
      "          0.80000007, 0.74117649],\r\n",
      "         ...,\r\n",
      "         [0.34901962, 0.22352943, 0.23921570, ..., 0.34901962,\r\n",
      "          0.23137257, 0.26274511],\r\n",
      "         [0.34901962, 0.23529413, 0.24705884, ..., 0.22352943,\r\n",
      "          0.23921570, 0.29411766],\r\n",
      "         [0.36078432, 0.23529413, 0.23921570, ..., 0.23529413,\r\n",
      "          0.25098041, 0.28627452]],\r\n",
      "\r\n",
      "        [[0.61176473, 0.69019610, 0.70196080, ..., 0.76862752,\r\n",
      "          0.79215693, 0.71764708],\r\n",
      "         [0.60784316, 0.70196080, 0.72156864, ..., 0.81568635,\r\n",
      "          0.84313732, 0.74509805],\r\n",
      "         [0.60392159, 0.69803923, 0.72549021, ..., 0.81568635,\r\n",
      "          0.84313732, 0.74901962],\r\n",
      "         ...,\r\n",
      "         [0.30980393, 0.20784315, 0.23921570, ..., 0.46666670,\r\n",
      "          0.30980393, 0.29019609],\r\n",
      "         [0.32156864, 0.22745100, 0.25882354, ..., 0.25882354,\r\n",
      "          0.25098041, 0.27058825],\r\n",
      "         [0.30588236, 0.20392159, 0.22745100, ..., 0.24705884,\r\n",
      "          0.25490198, 0.26666668]],\r\n",
      "\r\n",
      "        [[0.58431375, 0.73333335, 0.75686282, ..., 0.81960791,\r\n",
      "          0.83137262, 0.67058825],\r\n",
      "         [0.61568630, 0.80000007, 0.84313732, ..., 0.87058830,\r\n",
      "          0.89019614, 0.71764708],\r\n",
      "         [0.60000002, 0.78823537, 0.83529419, ..., 0.84313732,\r\n",
      "          0.87843144, 0.72156864],\r\n",
      "         ...,\r\n",
      "         [0.24313727, 0.20392159, 0.23137257, ..., 0.39607847,\r\n",
      "          0.24313727, 0.19607845],\r\n",
      "         [0.24313727, 0.20784315, 0.22745100, ..., 0.22745100,\r\n",
      "          0.21176472, 0.20000002],\r\n",
      "         [0.25098041, 0.20000002, 0.20000002, ..., 0.19607845,\r\n",
      "          0.20392159, 0.19607845]]])\r\n",
      "Tensor(shape=[3, 32, 32], dtype=float32, place=Place(gpu:0), stop_gradient=True,\r\n",
      "       [[[0.25490198, 0.27450982, 0.18823531, ..., 0.20000002,\r\n",
      "          0.21176472, 0.26274511],\r\n",
      "         [0.27058825, 0.30980393, 0.23529413, ..., 0.21176472,\r\n",
      "          0.25490198, 0.23921570],\r\n",
      "         [0.28627452, 0.32941177, 0.28235295, ..., 0.30588236,\r\n",
      "          0.28627452, 0.18823531],\r\n",
      "         ...,\r\n",
      "         [0.37254903, 0.35686275, 0.22352943, ..., 0.56470591,\r\n",
      "          0.66666669, 0.47843140],\r\n",
      "         [0.36862746, 0.29411766, 0.12549020, ..., 0.56078434,\r\n",
      "          0.60392159, 0.41568631],\r\n",
      "         [0.30588236, 0.13725491, 0.09411766, ..., 0.56078434,\r\n",
      "          0.60392159, 0.50196081]],\r\n",
      "\r\n",
      "        [[0.26666668, 0.31764707, 0.25098041, ..., 0.26274511,\r\n",
      "          0.29803923, 0.34117648],\r\n",
      "         [0.31372550, 0.40000004, 0.29019609, ..., 0.25882354,\r\n",
      "          0.35294119, 0.31764707],\r\n",
      "         [0.37254903, 0.42745101, 0.34509805, ..., 0.38431376,\r\n",
      "          0.38431376, 0.23137257],\r\n",
      "         ...,\r\n",
      "         [0.49803925, 0.48235297, 0.30980393, ..., 0.67450982,\r\n",
      "          0.78823537, 0.56078434],\r\n",
      "         [0.49019611, 0.40784317, 0.20392159, ..., 0.70980394,\r\n",
      "          0.73725492, 0.50588238],\r\n",
      "         [0.40000004, 0.20000002, 0.15686275, ..., 0.70196080,\r\n",
      "          0.72549021, 0.61176473]],\r\n",
      "\r\n",
      "        [[0.19607845, 0.25098041, 0.18039216, ..., 0.16078432,\r\n",
      "          0.20784315, 0.25882354],\r\n",
      "         [0.22745100, 0.31764707, 0.22352943, ..., 0.17254902,\r\n",
      "          0.27058825, 0.25882354],\r\n",
      "         [0.28235295, 0.34117648, 0.27450982, ..., 0.29411766,\r\n",
      "          0.30196080, 0.20000002],\r\n",
      "         ...,\r\n",
      "         [0.36078432, 0.33725491, 0.17647059, ..., 0.42352945,\r\n",
      "          0.52549022, 0.38431376],\r\n",
      "         [0.32156864, 0.27843139, 0.09411766, ..., 0.45490199,\r\n",
      "          0.48235297, 0.34901962],\r\n",
      "         [0.25490198, 0.10588236, 0.06666667, ..., 0.53333336,\r\n",
      "          0.57254905, 0.45882356]]])\r\n"
     ]
    }
   ],
   "source": [
    "from paddle.vision.datasets import Cifar10\n",
    "import paddle.vision.transforms as T\n",
    "\n",
    "transform=T.ToTensor()\n",
    "cifar10 = Cifar10(mode='test')\n",
    "\n",
    "for i in range(5):  # only show first 5 images\n",
    "    img, label = cifar10[i]\n",
    "    # do something with img and label\n",
    "    print(transform(img))\n",
    "    # <class 'PIL.Image.Image'> (32, 32) 6"
   ]
  },
  {
   "cell_type": "code",
   "execution_count": null,
   "id": "89c777a6-9d08-4d9d-b3db-587e533eb705",
   "metadata": {
    "scrolled": true
   },
   "outputs": [],
   "source": []
  }
 ],
 "metadata": {
  "kernelspec": {
   "display_name": "Python 3",
   "language": "python",
   "name": "py35-paddle1.2.0"
  },
  "language_info": {
   "codemirror_mode": {
    "name": "ipython",
    "version": 3
   },
   "file_extension": ".py",
   "mimetype": "text/x-python",
   "name": "python",
   "nbconvert_exporter": "python",
   "pygments_lexer": "ipython3",
   "version": "3.7.4"
  }
 },
 "nbformat": 4,
 "nbformat_minor": 5
}
